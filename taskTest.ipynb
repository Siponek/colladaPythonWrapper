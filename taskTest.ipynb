{
 "cells": [
  {
   "cell_type": "markdown",
   "metadata": {},
   "source": [
    "### Import of modules/libs"
   ]
  },
  {
   "cell_type": "code",
   "execution_count": 1,
   "metadata": {},
   "outputs": [],
   "source": [
    "import collada as cl\n",
    "import pandas as pd\n",
    "import numpy as np\n",
    "import math\n",
    "\n"
   ]
  },
  {
   "cell_type": "markdown",
   "metadata": {},
   "source": [
    "### Import of data"
   ]
  },
  {
   "cell_type": "code",
   "execution_count": 2,
   "metadata": {},
   "outputs": [
    {
     "name": "stdout",
     "output_type": "stream",
     "text": [
      "This is the whole scene source list object \t <Collada geometries=130>\n",
      "This is the first geometry object \t\t <Geometry id=Cube_130-mesh, 1 primitives>\n"
     ]
    }
   ],
   "source": [
    "\n",
    "pathToFile :str = 'cubes_scene.dae'\n",
    "with open(file=pathToFile, mode=\"rb\") as cubesSceneFile:\n",
    "    mesh = cl.Collada(cubesSceneFile\n",
    "                    #   , \n",
    "                    #   ignore=[cl.common.DaeUnsupportedError, cl.common.DaeBrokenRefError]\n",
    "                      )\n",
    "    \n",
    "    mesh.assetInfo.upaxis= \"Z_UP\"\n",
    "    print(\"This is the whole scene source list object \\t\",mesh)\n",
    "    # print(mesh.geometries)\n",
    "    print(\"This is the first geometry object \\t\\t\",mesh.geometries[0])\n",
    "\n"
   ]
  },
  {
   "cell_type": "markdown",
   "metadata": {},
   "source": [
    "### Filtering by colour"
   ]
  },
  {
   "cell_type": "code",
   "execution_count": 18,
   "metadata": {},
   "outputs": [
    {
     "name": "stdout",
     "output_type": "stream",
     "text": [
      "<class 'collada.scene.Scene'>\n"
     ]
    }
   ],
   "source": [
    "print(type(mesh.scene))"
   ]
  },
  {
   "cell_type": "markdown",
   "metadata": {},
   "source": [
    "# Color filtering\n"
   ]
  },
  {
   "cell_type": "markdown",
   "metadata": {},
   "source": [
    "### Function\n"
   ]
  },
  {
   "cell_type": "code",
   "execution_count": null,
   "metadata": {},
   "outputs": [],
   "source": [
    "def filterByMaterial(scene, materialName : str = \"Material.001\", returnBlanks : bool = False,  ) -> list:\n",
    "    \"\"\"A function that returns a list of collada.geometry.BoundGeometry objects. Checks the first node of given obj.primitives() for material. Possbile to use obj.original on obj from list to rerutn not-bound geometry.\n",
    "        'cl' as if collada imported as 'cl'.\n",
    "        yellowMaterial = 'Material.001' ;\n",
    "        blueMaterial = 'Material.002'\n",
    "    Args:\n",
    "        scene (cl.collada.scene, <class 'collada.scene.Scene'>): A cl.Collada object. (e.g. read from file)\n",
    "        materialName (str, optional): Name of the material that cointains the required color/attribute. Defaults to \"Material.001\".\n",
    "        returnBlanks (bool, optional): If True then returns list with notbound geometry without materials. Defaults to False.\n",
    "\n",
    "    Returns:\n",
    "        list: List of collada.geometry.BoundGeometry objects with selected material\n",
    "    \"\"\"\n",
    "    \n",
    "    if (type(scene) != cl.scene.Scene):\n",
    "        print(\"Incorrect type as scene!\")\n",
    "        raise ValueError\n",
    "    \n",
    "    listOf_sceneGeoNodes = list(scene.objects('geometry'))\n",
    "    yellowMaterial = 'Material.001'\n",
    "    blueMaterial = 'Material.002'\n",
    "\n",
    "    listOf_yellows  :list = []\n",
    "    listOf_blues    :list = []\n",
    "    listOf_None     :list = []\n",
    "\n",
    "    # TODO check if idx can be used for proper node.id / cube.id assignment\n",
    "    for idx, obj in enumerate(listOf_sceneGeoNodes):\n",
    "        geo = list(obj.primitives())\n",
    "        triangle = geo[0]\n",
    "        if triangle.material is None:\n",
    "            # print(type(triangle.material))\n",
    "            listOf_None.append(obj)\n",
    "            continue\n",
    "        \n",
    "        # print(triangle.material.name)\n",
    "        if (triangle.material.name == yellowMaterial):\n",
    "            listOf_yellows.append(obj)\n",
    "        else:\n",
    "            listOf_blues.append(obj)\n",
    "            \n",
    "        if (returnBlanks == True):\n",
    "            print(\"Returned \",  len(listOf_None), \"objects\")\n",
    "            return listOf_None\n",
    "        elif (materialName == yellowMaterial):\n",
    "            print(\"Returned \",  len(listOf_yellows), \"objects\")\n",
    "            return listOf_yellows\n",
    "        else:\n",
    "            print(\"Returned \",  len(listOf_blues), \"objects\")\n",
    "            return listOf_blues"
   ]
  },
  {
   "cell_type": "code",
   "execution_count": 17,
   "metadata": {},
   "outputs": [
    {
     "name": "stdout",
     "output_type": "stream",
     "text": [
      "objects(geometry) in Node_> \t [<BoundGeometry id=Cube_130-mesh, 1 primitives>]\n",
      "Amount of objects(geometry) in scene _> \t 130\n",
      "Amount of geometry in objects(geometry) _> \t 1\n",
      "Amount of TRIANGLES in geometry _> \t 12\n",
      "\n",
      "This is the amount of yellows 107\n",
      "This is the amount of blues 19\n",
      "This is the amount of Nones 4\n",
      "<class 'collada.geometry.BoundGeometry'>\n"
     ]
    }
   ],
   "source": [
    "# TODO Use  NODES id/names to corelate id of cubes/geometry \n",
    "\n",
    "listOf_sourceGeoNodes = list(mesh.scene.objects('geometry'))\n",
    "listOf_Nodes = list((mesh.scene.nodes[0]).objects(\"geometry\"))\n",
    "\n",
    "print(\"objects(geometry) in Node_> \\t\",listOf_Nodes)\n",
    "print(\"Amount of objects(geometry) in scene _> \\t\",len(listOf_sourceGeoNodes))\n",
    "listOf_GeoPrims = list(listOf_sourceGeoNodes[0].primitives())\n",
    "print(\"Amount of geometry in objects(geometry) _> \\t\",len(listOf_GeoPrims))\n",
    "listOf_triangles = listOf_GeoPrims[0]\n",
    "print(\"Amount of TRIANGLES in geometry _> \\t\",len(listOf_triangles))\n",
    "\n",
    "\n",
    "\n",
    "yellowMaterial = 'Material.001'\n",
    "blueMaterial = 'Material.002'\n",
    "\n",
    "listOf_yellows :list = []\n",
    "listOf_blues :list = []\n",
    "listOf_None :list = []\n",
    "# It is possible to filter out cubes via material. 001 is BLUE, 002 is yellow\n",
    "\n",
    "sceneGraphNode = mesh.scene.nodes[0]\n",
    "\n",
    "\n",
    "for idx, obj in enumerate(listOf_sourceGeoNodes):\n",
    "    # print(idx)\n",
    "    geo = list(obj.primitives())\n",
    "    triangle = geo[0]\n",
    "    # print((triangle))\n",
    "    # typeOfMaterial :str = lambda x : ((obj[i].primitives())[0]).material.name\n",
    "    #? There are None types for some reason\n",
    "    #? Cubes without material have diffrent index in blender and diffrent here\n",
    "    if triangle.material is None:\n",
    "        # print(type(triangle.material))\n",
    "        \n",
    "        listOf_None.append(obj)\n",
    "        continue\n",
    "    \n",
    "    # print(triangle.material.name)\n",
    "    if (triangle.material.name == yellowMaterial):\n",
    "        listOf_yellows.append(obj)\n",
    "    else:\n",
    "        listOf_blues.append(obj)\n",
    "print(\"\\nThis is the amount of yellows\",  len(listOf_yellows))\n",
    "print(\"This is the amount of blues\",    len(listOf_blues))\n",
    "print(\"This is the amount of Nones\",    len(listOf_None))\n",
    "print(type(listOf_yellows[0]))"
   ]
  },
  {
   "cell_type": "markdown",
   "metadata": {},
   "source": [
    "### Filtering by area xyz (0;15)"
   ]
  },
  {
   "cell_type": "code",
   "execution_count": 4,
   "metadata": {},
   "outputs": [
    {
     "name": "stdout",
     "output_type": "stream",
     "text": [
      "This is the amount of inArea 3\n",
      "This is the amount of outOfBounds 127\n"
     ]
    }
   ],
   "source": [
    "#? plan:\n",
    "#? go though array of obj;\n",
    "#? go though array of verts of every single component and see if np.any of them returns false\n",
    "#? if true then append?\n",
    "#? only ONE vert needs to be in area to consider a obj being in area\n",
    "\n",
    "lower_bound , upper_bound = 0, 15\n",
    "listOf_inArea :list = []\n",
    "listOf_outOfBounds :list = []\n",
    "i:int = 10\n",
    "for idx_1, obj in enumerate(listOf_sourceGeoNodes):\n",
    "    geo = list(obj.primitives())\n",
    "    triangle = geo[0]\n",
    "    \n",
    "    for  idx_2 , arrayOfVerts in enumerate(triangle.vertex):\n",
    "        # numpy accepts only bitwise operators here\n",
    "        # ifInArea = np.all((arrayOfVerts > 0) & (arrayOfVerts < 15))\n",
    "        # x,y,z = arrayOfVerts[0], arrayOfVerts[1], arrayOfVerts[2]\n",
    "        # if (0<x) and (x<15):\n",
    "        #     ifInArea_x = True\n",
    "        # else:\n",
    "        #     ifInArea_x = False\n",
    "            \n",
    "        # print(arrayOfVerts)\n",
    "        # print(vertInArea)\n",
    "        \n",
    "        vertInArea = np.all((lower_bound < arrayOfVerts) & (arrayOfVerts < upper_bound)) \n",
    "        if (vertInArea == True):\n",
    "            listOf_inArea.append(obj)\n",
    "            break\n",
    "        if (idx_2 == len(triangle.vertex) -1 ):\n",
    "            listOf_outOfBounds.append(obj)\n",
    "    \n",
    "print(\"This is the amount of inArea\",           len(listOf_inArea))\n",
    "print(\"This is the amount of outOfBounds\",      len(listOf_outOfBounds))"
   ]
  },
  {
   "cell_type": "markdown",
   "metadata": {},
   "source": [
    "## Transforming the scene\n",
    "### Problems\n",
    "- MatrixTransform sucks\n",
    "- How to rotate the whole set? - Best solution would be to place them under one node, calculate the center and rotate the parent?"
   ]
  },
  {
   "cell_type": "code",
   "execution_count": 5,
   "metadata": {},
   "outputs": [],
   "source": [
    "# quickList = [[0,0,0,0],   [0,0,0,100],    [0,0,0,0],    [0,0,0,0]]\n",
    "# offsetForMatrix = np.array( quickList,dtype= \"float16\")\n",
    "# print(len(offsetForMatrix))\n",
    "# transforms_old = (mesh.scene.nodes[0]).transforms[0]\n",
    "# transforms_old = transforms_old.matrix\n",
    "\n",
    "# print(\"This is the old matrix\\n\",transforms_old)\n",
    "# print(\"This is the new matrix\\n\",transforms_old + offsetForMatrix)\n",
    "# sceneGraphNode.transforms[0] = cl.scene.MatrixTransform(offsetForMatrix)\n",
    "# print(mesh.geometries[0])\n",
    "# print(listOf_yellows[0])\n"
   ]
  },
  {
   "cell_type": "markdown",
   "metadata": {},
   "source": [
    "# Creating new objects"
   ]
  },
  {
   "cell_type": "markdown",
   "metadata": {},
   "source": [
    "### Function"
   ]
  },
  {
   "cell_type": "code",
   "execution_count": null,
   "metadata": {},
   "outputs": [],
   "source": [
    "def prepareColladaObj(obj, objectToCopyFrom, nameOfTheScene : str = \"myscene\" ):\n",
    "    \"\"\"_summary_\n",
    "\n",
    "    Args:\n",
    "        obj (_type_): _description_\n",
    "        objectToCopyFrom (_type_): _description_\n",
    "        nameOfTheScene (str, optional): _description_. Defaults to \"myscene\".\n",
    "\n",
    "    Returns:\n",
    "        _type_: _description_\n",
    "    \"\"\"\n",
    "    \n",
    "    # TODO Correct amount of nodes\n",
    "    amountOfObjects = len(list(objectToCopyFrom.scene.objects('geometry')))\n",
    "    for x_Eff in objectToCopyFrom.effects:\n",
    "        obj.effects.append(x_Eff)\n",
    "        \n",
    "    for x_Mat in objectToCopyFrom.materials:\n",
    "        obj.materials.append(x_Mat)\n",
    "        \n",
    "    indexOfCorrectNodes = []\n",
    "    for x_Geo in list_to_pick_from:\n",
    "        x_Geo = x_Geo.original\n",
    "        indexOfCorrectNodes.append(amountOfObjects -  int(x_Geo.name[-3:]))\n",
    "        newSceneMesh.geometries.append(x_Geo)\n",
    "\n",
    "    compressed_nodes = [val for idx, val in enumerate(objectToCopyFrom.scene.nodes) if idx in indexOfCorrectNodes]\n",
    "    print(compressed_nodes[0].id)\n",
    "    myscene = cl.scene.Scene(nameOfTheScene, compressed_nodes)\n",
    "    obj.scenes.append(myscene)\n",
    "    obj.scene = myscene\n",
    "    \n",
    "    return obj"
   ]
  },
  {
   "cell_type": "code",
   "execution_count": 6,
   "metadata": {},
   "outputs": [],
   "source": [
    "newSceneMesh = cl.Collada()\n",
    "newSceneMesh.assetInfo.upaxis= \"Z_UP\"\n",
    "\n",
    "list_to_pick_from = listOf_blues"
   ]
  },
  {
   "cell_type": "markdown",
   "metadata": {},
   "source": [
    "# Calculate mean of points"
   ]
  },
  {
   "cell_type": "markdown",
   "metadata": {},
   "source": [
    "### Function"
   ]
  },
  {
   "cell_type": "code",
   "execution_count": 24,
   "metadata": {},
   "outputs": [
    {
     "name": "stdout",
     "output_type": "stream",
     "text": [
      "<class 'numpy.ndarray'>\n"
     ]
    }
   ],
   "source": [
    "t = np.array([1,2,3])\n",
    "print(type(t))"
   ]
  },
  {
   "cell_type": "code",
   "execution_count": null,
   "metadata": {},
   "outputs": [],
   "source": [
    "def meanOfCentre(list_to_pick_from : list, verbose : bool = True) -> np.ndarray:\n",
    "    \"\"\"_summary_\n",
    "\n",
    "    Args:\n",
    "        list_to_pick_from (list): _description_\n",
    "        verbose (bool, optional): _description_. Defaults to True.\n",
    "\n",
    "    Returns:\n",
    "        np.ndarray: _description_\n",
    "    \"\"\"\n",
    "    \n",
    "    centralPoint : np.array = 0\n",
    "    tmpSum = 0\n",
    "    amount : int = 0\n",
    "    for x_Geo in list_to_pick_from:\n",
    "        geo = list(x_Geo.primitives())\n",
    "        triangle = geo[0]\n",
    "        \n",
    "        for  idx_2 , arrayOfVerts in enumerate(triangle.vertex):\n",
    "            tmpSum += arrayOfVerts\n",
    "            amount += 1\n",
    "    centralPoint = tmpSum/amount\n",
    "            \n",
    "    if (verbose == True):\n",
    "        print(\"Sum of the verts:\\t\", tmpSum)\n",
    "        print(\"Amount of the verts:\\t\", amount)\n",
    "        print(\"Central mean of vertices:\\t\", centralPoint)\n",
    "    \n",
    "    return centralPoint"
   ]
  },
  {
   "cell_type": "code",
   "execution_count": 7,
   "metadata": {},
   "outputs": [
    {
     "name": "stdout",
     "output_type": "stream",
     "text": [
      "[-1153.1854   -1012.7799     -25.124096]\n",
      "152\n",
      "[-7.586746  -6.663026  -0.1652901]\n"
     ]
    }
   ],
   "source": [
    "meanOfVerts : float = 0\n",
    "tmpSum = 0\n",
    "amount : int = 0\n",
    "for x_Geo in list_to_pick_from:\n",
    "    geo = list(x_Geo.primitives())\n",
    "    triangle = geo[0]\n",
    "    for  idx_2 , arrayOfVerts in enumerate(triangle.vertex):\n",
    "        tmpSum += arrayOfVerts\n",
    "        amount += 1\n",
    "        \n",
    "print(tmpSum)\n",
    "print(amount)\n",
    "originPoint = tmpSum/amount\n",
    "print(tmpSum/amount)"
   ]
  },
  {
   "cell_type": "code",
   "execution_count": 8,
   "metadata": {},
   "outputs": [
    {
     "name": "stdout",
     "output_type": "stream",
     "text": [
      "<Node transforms=1, children=1>\n",
      "Cube_129\n",
      "[[ -0.2502034   -0.965825    -0.06767803 -13.11428   ]\n",
      " [  0.8722231   -0.1945087   -0.4487686  -22.1053    ]\n",
      " [  0.420268    -0.1713138    0.8910816  -46.21673   ]\n",
      " [  0.           0.           0.           1.        ]]\n",
      "[<MatrixTransform>]\n",
      "[[ -0.2502034   -0.965825    -0.06767803 -13.11428   ]\n",
      " [  0.8722231   -0.1945087   -0.4487686  -22.1053    ]\n",
      " [  0.420268    -0.1713138    0.8910816  -46.21673   ]\n",
      " [  0.           0.           0.           1.        ]]\n"
     ]
    }
   ],
   "source": [
    "print(mesh.scenes[0].nodes[0])\n",
    "print(mesh.scenes[0].nodes[0].id)\n",
    "print(mesh.scenes[0].nodes[0].matrix)\n",
    "print(mesh.scenes[0].nodes[0].transforms)\n",
    "print(mesh.scenes[0].nodes[0].transforms[0].matrix)\n",
    "\n"
   ]
  },
  {
   "cell_type": "code",
   "execution_count": 9,
   "metadata": {},
   "outputs": [],
   "source": [
    "# # TODO Correct amount of nodes\n",
    "\n",
    "# myscene = cl.scene.Scene(\"myscene\", mesh.scene.nodes)\n",
    "# newSceneMesh.scenes.append(myscene)\n",
    "# newSceneMesh.scene = myscene\n",
    "# # print(newSceneMesh.scenes[0].nodes[0].transforms)\n",
    "\n",
    "# for x_Eff in mesh.effects:\n",
    "#     newSceneMesh.effects.append(x_Eff)\n",
    "    \n",
    "# for x_Mat in mesh.materials:\n",
    "#     newSceneMesh.materials.append(x_Mat)\n",
    "    \n",
    "# for x_Geo in listOf_inArea:\n",
    "#     newSceneMesh.geometries.append(x_Geo.original)\n",
    "# offset:float = 20\n",
    "# quickList = [[0,0,0,0],   [0,0,0,offset],    [0,0,0,0],    [0,0,0,0]]\n",
    "# # quickList = [0,0,0,0, 0,0,0,100, 0,0,0,0, 0,0,0,0]\n",
    "# offsetForMatrix = np.array( quickList,dtype= \"float16\")\n",
    "# offsetForMatrix = offsetForMatrix.flatten()\n",
    "# offsetForMatrix = cl.scene.MatrixTransform(offsetForMatrix)\n",
    "# # offsetForMatrix = offsetForMatrix.flatten()"
   ]
  },
  {
   "cell_type": "code",
   "execution_count": 10,
   "metadata": {},
   "outputs": [
    {
     "name": "stdout",
     "output_type": "stream",
     "text": [
      "Ilość nodes w geometries 0\n",
      "Cube_128-mesh\n",
      "128\n",
      "Cube_126-mesh\n",
      "126\n",
      "Cube_123-mesh\n",
      "123\n",
      "Cube_114-mesh\n",
      "114\n",
      "Cube_112-mesh\n",
      "112\n",
      "Cube_098-mesh\n",
      "98\n",
      "Cube_091-mesh\n",
      "91\n",
      "Cube_090-mesh\n",
      "90\n",
      "Cube_075-mesh\n",
      "75\n",
      "Cube_052-mesh\n",
      "52\n",
      "Cube_049-mesh\n",
      "49\n",
      "Cube_029-mesh\n",
      "29\n",
      "Cube_025-mesh\n",
      "25\n",
      "Cube_024-mesh\n",
      "24\n",
      "Cube_018-mesh\n",
      "18\n",
      "Cube_014-mesh\n",
      "14\n",
      "Cube_006-mesh\n",
      "6\n",
      "Cube_003-mesh\n",
      "3\n",
      "Cube_001-mesh\n",
      "1\n",
      "Cube_127\n"
     ]
    }
   ],
   "source": [
    "# TODO Correct amount of nodes\n",
    "\n",
    "# myscene = cl.scene.Scene(\"myscene\", mesh.scene.nodes)\n",
    "# newSceneMesh.scenes.append(myscene)\n",
    "# newSceneMesh.scene = myscene\n",
    "# print(newSceneMesh.scenes[0].nodes[0].transforms)\n",
    "\n",
    "for x_Eff in mesh.effects:\n",
    "    newSceneMesh.effects.append(x_Eff)\n",
    "    \n",
    "for x_Mat in mesh.materials:\n",
    "    newSceneMesh.materials.append(x_Mat)\n",
    "    \n",
    "indexOfCorrectNodes = []\n",
    "print(\"Ilość nodes w geometries\", len(newSceneMesh.geometries))\n",
    "for x_Geo in list_to_pick_from:\n",
    "    x_Geo = x_Geo.original\n",
    "    print((x_Geo.id))\n",
    "    print(int(x_Geo.name[-3:]))\n",
    "    \n",
    "    \n",
    "    # TODO to find a better solution\n",
    "    # TODO Cubes are numbered in reverse way to nodes\n",
    "    indexOfCorrectNodes.append(len(listOf_sourceGeoNodes) -  int(x_Geo.name[-3:]))\n",
    "    \n",
    "    newSceneMesh.geometries.append(x_Geo)\n",
    "\n",
    "# This is for correct amount of nodes in new collada object\n",
    "compressed_nodes = [val for idx, val in enumerate(mesh.scene.nodes) if idx in indexOfCorrectNodes]\n",
    "print(compressed_nodes[0].id)\n",
    "myscene = cl.scene.Scene(\"myscene\", compressed_nodes)\n",
    "newSceneMesh.scenes.append(myscene)\n",
    "newSceneMesh.scene = myscene"
   ]
  },
  {
   "cell_type": "code",
   "execution_count": null,
   "metadata": {},
   "outputs": [],
   "source": [
    "\n",
    "offset:float = 20\n",
    "quickList = [[0,0,0,0],   [0,0,0,offset],    [0,0,0,0],    [0,0,0,0]]\n",
    "# quickList = [0,0,0,0, 0,0,0,100, 0,0,0,0, 0,0,0,0]\n",
    "offsetForMatrix = np.array( quickList,dtype= \"float16\")\n",
    "offsetForMatrix = offsetForMatrix.flatten()\n",
    "offsetForMatrix = cl.scene.MatrixTransform(offsetForMatrix)\n",
    "# offsetForMatrix = offsetForMatrix.flatten()"
   ]
  },
  {
   "cell_type": "code",
   "execution_count": 11,
   "metadata": {},
   "outputs": [
    {
     "name": "stdout",
     "output_type": "stream",
     "text": [
      "[<Node transforms=1, children=1>, <Node transforms=1, children=1>, <Node transforms=1, children=1>, <Node transforms=1, children=1>, <Node transforms=1, children=1>, <Node transforms=1, children=1>, <Node transforms=1, children=1>, <Node transforms=1, children=1>, <Node transforms=1, children=1>, <Node transforms=1, children=1>, <Node transforms=1, children=1>, <Node transforms=1, children=1>, <Node transforms=1, children=1>, <Node transforms=1, children=1>, <Node transforms=1, children=1>, <Node transforms=1, children=1>, <Node transforms=1, children=1>, <Node transforms=1, children=1>, <Node transforms=1, children=1>]\n",
      "Cube_127\n",
      "[[ -0.2071292   0.5314838   0.821354  -47.00282  ]\n",
      " [  0.7105892  -0.4953271   0.499714  -35.0933   ]\n",
      " [  0.6724288   0.6871507  -0.27507    -1.988052 ]\n",
      " [  0.          0.          0.          1.       ]]\n",
      "[<MatrixTransform>]\n",
      "[[ -0.2071292   0.5314838   0.821354  -47.00282  ]\n",
      " [  0.7105892  -0.4953271   0.499714  -35.0933   ]\n",
      " [  0.6724288   0.6871507  -0.27507    -1.988052 ]\n",
      " [  0.          0.          0.          1.       ]]\n"
     ]
    }
   ],
   "source": [
    "print(newSceneMesh.scenes[0].nodes)\n",
    "print(newSceneMesh.scenes[0].nodes[0].id)\n",
    "print(newSceneMesh.scenes[0].nodes[0].matrix)\n",
    "print(newSceneMesh.scenes[0].nodes[0].transforms)\n",
    "print(newSceneMesh.scenes[0].nodes[0].transforms[0].matrix)\n"
   ]
  },
  {
   "cell_type": "markdown",
   "metadata": {},
   "source": [
    "# Applying transformations\n"
   ]
  },
  {
   "cell_type": "markdown",
   "metadata": {},
   "source": [
    "### Function"
   ]
  },
  {
   "cell_type": "code",
   "execution_count": null,
   "metadata": {},
   "outputs": [],
   "source": [
    "def applyTransformation(scene, pivotOfRotation ,transform_offsetX:float = 0, transform_offsetY:float = 0, transform_offsetZ:float = 0, degreesToRotate : float = 0 ) -> None:\n",
    "    \"\"\"_summary_\n",
    "\n",
    "    Args:\n",
    "        scene (_type_): _description_\n",
    "        pivotOfRotation (_type_): _description_\n",
    "        transform_offsetX (float, optional): _description_. Defaults to 0.\n",
    "        transform_offsetY (float, optional): _description_. Defaults to 0.\n",
    "        transform_offsetZ (float, optional): _description_. Defaults to 0.\n",
    "        degreesToRotate (float, optional): _description_. Defaults to 0.\n",
    "    \"\"\"\n",
    "\n",
    "    matrixRotation = cl.scene.RotateTransform(pivotOfRotation[0], pivotOfRotation[1], pivotOfRotation[2], math.radians(degreesToRotate))\n",
    "    matrixTranslate = cl.scene.TranslateTransform(transform_offsetX, transform_offsetY, transform_offsetZ)\n",
    "    for idx, nodeX in enumerate(newSceneMesh.scene.nodes):\n",
    "        transforms_old = nodeX.transforms[0]\n",
    "        old_node = newSceneMesh.scenes[0].nodes[idx]\n",
    "        \n",
    "        final_matrix = cl.scene.MatrixTransform(np.dot(np.dot(matrixRotation.matrix, matrixTranslate.matrix), transforms_old.matrix).flatten())\n",
    "        new_node = cl.scene.Node(old_node.id, old_node.children, [])\n",
    "        newSceneMesh.scenes[0].nodes[idx].transforms[0] = final_matrix\n",
    "        (newSceneMesh.scenes[0].nodes[idx]).save()"
   ]
  },
  {
   "cell_type": "code",
   "execution_count": 12,
   "metadata": {},
   "outputs": [
    {
     "name": "stdout",
     "output_type": "stream",
     "text": [
      "<MatrixTransform>\n",
      "Cube_127\n",
      "Cube_125\n",
      "Cube_122\n",
      "Cube_113\n",
      "Cube_111\n",
      "Cube_097\n",
      "Cube_090\n",
      "Cube_089\n",
      "Cube_074\n",
      "Cube_051\n",
      "Cube_048\n",
      "Cube_028\n",
      "Cube_024\n",
      "Cube_023\n",
      "Cube_017\n",
      "Cube_013\n",
      "Cube_005\n",
      "Cube_002\n",
      "Cube_000\n"
     ]
    }
   ],
   "source": [
    "# ! OH MY FCKING GOD\n",
    "matrixRotation = cl.scene.RotateTransform(originPoint[0], originPoint[1], originPoint[2], math.radians(20))\n",
    "matrixTranslate = cl.scene.TranslateTransform(0, 100, 0)\n",
    "# matrixRotation = matrixRotation.matrix\n",
    "# print(matrixRotation)\n",
    "# print(matrixRotation.matrix)\n",
    "print(newSceneMesh.scenes[0].nodes[0].transforms[0])\n",
    "\n",
    "for idx, nodeX in enumerate(newSceneMesh.scene.nodes):\n",
    "    transforms_old = nodeX.transforms[0]\n",
    "    old_node = newSceneMesh.scenes[0].nodes[idx]\n",
    "    \n",
    "    \n",
    "    \n",
    "    final_matrix = cl.scene.MatrixTransform(np.dot(np.dot(matrixRotation.matrix, matrixTranslate.matrix), transforms_old.matrix).flatten())\n",
    "    # new_node = cl.scene.Node(old_node.id, old_node.children, [transforms_old, matrixTranslate, matrixRotation])\n",
    "    new_node = cl.scene.Node(old_node.id, old_node.children, [])\n",
    "    newSceneMesh.scenes[0].nodes[idx].transforms[0] = final_matrix\n",
    "    (newSceneMesh.scenes[0].nodes[idx]).save()\n",
    "    print(newSceneMesh.scenes[0].nodes[idx].id)\n",
    "    # print(\"Matrix of rotation\\n\", matrixRotation.matrix) \n",
    "    # print(\"Matrix of translate\\n\", matrixTranslate.matrix)\n",
    "    # print(\"Matrix of final_matrix\\n\", final_matrix.matrix)\n",
    "    # print(\"Matrix of OLD\\n\", transforms_old.matrix)"
   ]
  },
  {
   "cell_type": "code",
   "execution_count": 13,
   "metadata": {},
   "outputs": [
    {
     "name": "stdout",
     "output_type": "stream",
     "text": [
      "<Collada geometries=19>\n",
      "<Scene id=myscene nodes=19>\n",
      "[<Node transforms=1, children=1>, <Node transforms=1, children=1>, <Node transforms=1, children=1>, <Node transforms=1, children=1>, <Node transforms=1, children=1>, <Node transforms=1, children=1>, <Node transforms=1, children=1>, <Node transforms=1, children=1>, <Node transforms=1, children=1>, <Node transforms=1, children=1>, <Node transforms=1, children=1>, <Node transforms=1, children=1>, <Node transforms=1, children=1>, <Node transforms=1, children=1>, <Node transforms=1, children=1>, <Node transforms=1, children=1>, <Node transforms=1, children=1>, <Node transforms=1, children=1>, <Node transforms=1, children=1>]\n",
      "Cube_127\n",
      "[[ -0.23324482   0.50320053   0.8343477  -46.845245  ]\n",
      " [  0.7422697   -0.46398792   0.48734033  64.87028   ]\n",
      " [  0.63117427   0.73160964  -0.2647915   -6.8958197 ]\n",
      " [  0.           0.           0.           1.        ]]\n",
      "[<MatrixTransform>]\n",
      "[[ -0.23324482   0.50320053   0.8343477  -46.845245  ]\n",
      " [  0.7422697   -0.46398792   0.48734033  64.87028   ]\n",
      " [  0.63117427   0.73160964  -0.2647915   -6.8958197 ]\n",
      " [  0.           0.           0.           1.        ]]\n"
     ]
    }
   ],
   "source": [
    "print(newSceneMesh)\n",
    "print(newSceneMesh.scenes[0])\n",
    "print(newSceneMesh.scenes[0].nodes)\n",
    "print(newSceneMesh.scenes[0].nodes[0].id)\n",
    "print(newSceneMesh.scenes[0].nodes[0].matrix)\n",
    "print(newSceneMesh.scenes[0].nodes[0].transforms)\n",
    "print(newSceneMesh.scenes[0].nodes[0].transforms[0].matrix)"
   ]
  },
  {
   "cell_type": "code",
   "execution_count": 14,
   "metadata": {},
   "outputs": [
    {
     "name": "stdout",
     "output_type": "stream",
     "text": [
      "<Collada geometries=130>\n",
      "<Scene id=Scene nodes=130>\n",
      "<Collada geometries=19>\n",
      "<Scene id=myscene nodes=19>\n",
      "19\n",
      "19\n"
     ]
    }
   ],
   "source": [
    "\n",
    "\n",
    "# sceneGraphNode.transforms[0] = cl.scene.MatrixTransform(offsetForMatrix)\n",
    "# print(mesh.geometries[0])\n",
    "# print(listOf_yellows[0])\n",
    "\n",
    "# eff = []\n",
    "# mat = []\n",
    "# geo = []\n",
    "# scn = []\n",
    "# # newSceneMesh.effects.append = mesh.effects\n",
    "# # newSceneMesh.materials = mesh.materials\n",
    "# eff = newSceneMesh.effects\n",
    "# # mat = cl.material.Material()\n",
    "# mat = newSceneMesh.materials\n",
    "# geo = newSceneMesh.geometries\n",
    "# scn = newSceneMesh.scenes\n",
    "\n",
    "\n",
    "# for x_Geo in listOf_None:\n",
    "#     newSceneMesh.geometries.append(x_Geo.original)\n",
    "# for x_Geo in listOf_yellows:\n",
    "#     newSceneMesh.geometries.append(x_Geo.original)\n",
    "\n",
    "# matnode = cl.scene.MaterialNode(\"materialref\", mat, inputs=[])\n",
    "# geomnode = cl.scene.GeometryNode(geo, [matnode])\n",
    "# node = cl.scene.Node(\"node0\", children=[geomnode])\n",
    "# newSceneMesh.scene.nodes[0] = mesh.scene.nodes[0]\n",
    "# newSceneMesh.effects = mesh.effects\n",
    "# newSceneMesh.materials = mesh.materials\n",
    "# for x_Geo in listOf_blues:\n",
    "#     newSceneMesh.geometries.append(x_Geo.original)\n",
    "\n",
    "# matnode = cl.scene.MaterialNode(\"materialref\", mesh.materials, inputs=[])\n",
    "# geomnode = cl.scene.GeometryNode(geom, [matnode])\n",
    "# node = cl.scene.Node(\"node0\")\n",
    "# myscene = cl.scene.Scene(\"myscene\", [node])\n",
    "# mesh.scenes.append(myscene)\n",
    "\n",
    "# newSceneMesh.scene.nodes = mesh.scene.nodes\n",
    "\n",
    "\n",
    "# cool = ((newSceneMesh.scene.node).transforms[0])\n",
    "# print(cool.transforms[0])\n",
    "# print(\"OLD _>\")\n",
    "print(mesh)\n",
    "print(mesh.scene)\n",
    "# print(mesh.nodes)\n",
    "# print(mesh.materials)\n",
    "# print(mesh.effects)\n",
    "# print(mesh.geometries)\n",
    "\n",
    "# print(\"NEW _>\")\n",
    "print(newSceneMesh)\n",
    "print(newSceneMesh.scene)\n",
    "# print(newSceneMesh.nodes)\n",
    "# print(newSceneMesh.materials)\n",
    "# print(newSceneMesh.effects)\n",
    "# print(newSceneMesh.geometries)\n",
    "# ! Nodes =/= Geometries\n",
    "i=0\n",
    "for idx, val in enumerate(newSceneMesh.scene.nodes):\n",
    "    i+=1\n",
    "    \n",
    "print(i)\n",
    "print(len(newSceneMesh.geometries))\n",
    "\n"
   ]
  },
  {
   "cell_type": "code",
   "execution_count": 15,
   "metadata": {},
   "outputs": [],
   "source": [
    "newSceneMesh.write(\"test.dae\")"
   ]
  }
 ],
 "metadata": {
  "interpreter": {
   "hash": "30ce3c260c001b5e6f0ddab3c8913c051b426dc08e4364b60e2658025f1c6f7c"
  },
  "kernelspec": {
   "display_name": "Python 3.9.7 64-bit",
   "language": "python",
   "name": "python3"
  },
  "language_info": {
   "codemirror_mode": {
    "name": "ipython",
    "version": 3
   },
   "file_extension": ".py",
   "mimetype": "text/x-python",
   "name": "python",
   "nbconvert_exporter": "python",
   "pygments_lexer": "ipython3",
   "version": "3.9.7"
  },
  "orig_nbformat": 4
 },
 "nbformat": 4,
 "nbformat_minor": 2
}
