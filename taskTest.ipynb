{
 "cells": [
  {
   "cell_type": "markdown",
   "metadata": {},
   "source": [
    "### Import of modules/libs"
   ]
  },
  {
   "cell_type": "code",
   "execution_count": 1,
   "metadata": {},
   "outputs": [],
   "source": [
    "import collada as cl\n",
    "# import pandas as pd\n",
    "import numpy as np\n",
    "import math\n",
    "\n"
   ]
  },
  {
   "cell_type": "markdown",
   "metadata": {},
   "source": [
    "### Import of data"
   ]
  },
  {
   "cell_type": "code",
   "execution_count": 2,
   "metadata": {},
   "outputs": [
    {
     "name": "stdout",
     "output_type": "stream",
     "text": [
      "This is the whole scene source list object \\(1-cos) <Collada geometries=1>\n",
      "This is the first geometry object \\(1-cos)\\(1-cos) <Geometry id=Cube_001-mesh, 1 primitives>\n",
      "This is the first geometry object \t\t <Node transforms=1, children=1>\n"
     ]
    }
   ],
   "source": [
    "\n",
    "# pathToFile :str = 'cubes_scene.dae'\n",
    "pathToFile :str = 'newExportFromBlender.dae'\n",
    "with open(file=pathToFile, mode=\"rb\") as cubesSceneFile:\n",
    "    mesh = cl.Collada(cubesSceneFile\n",
    "                    #   , \n",
    "                    #   ignore=[cl.common.DaeUnsupportedError, cl.common.DaeBrokenRefError]\n",
    "                      )\n",
    "    \n",
    "    mesh.assetInfo.upaxis= \"Z_UP\"\n",
    "    print(\"This is the whole scene source list object \\(1-cos)\",mesh)\n",
    "    # print(mesh.geometries)\n",
    "    print(\"This is the first geometry object \\(1-cos)\\(1-cos)\",mesh.geometries[0])\n",
    "    print(\"This is the first geometry object \\t\\t\",mesh.scene.nodes[0])\n",
    "\n"
   ]
  },
  {
   "cell_type": "markdown",
   "metadata": {},
   "source": [
    "# Color filtering\n"
   ]
  },
  {
   "cell_type": "markdown",
   "metadata": {},
   "source": [
    "### Function\n"
   ]
  },
  {
   "cell_type": "code",
   "execution_count": 3,
   "metadata": {},
   "outputs": [],
   "source": [
    "def filterByMaterial(scene, materialName : str = \"Material.001\", returnBlanks : bool = False,  ) -> list:\n",
    "    \"\"\"A function that returns a list of collada.geometry.BoundGeometry objects. Checks the first node of given obj.primitives() for material. Possbile to use obj.original on obj from list to rerutn not-bound geometry.\n",
    "        'cl' as if collada imported as 'cl'.\n",
    "        yellowMaterial = 'Material.001' ;\n",
    "        blueMaterial = 'Material.002'\n",
    "    Args:\n",
    "        scene (cl.collada.scene, <class 'collada.scene.Scene'>): A cl.Collada object. (e.g. read from file)\n",
    "        materialName (str, optional): Name of the material that cointains the required color/attribute. Defaults to \"Material.001\".\n",
    "        returnBlanks (bool, optional): If True then returns list with notbound geometry without materials. Defaults to False.\n",
    "\n",
    "    Returns:\n",
    "        list: List of collada.geometry.BoundGeometry objects with selected material\n",
    "    \"\"\"\n",
    "    \n",
    "    if (type(scene) != cl.scene.Scene):\n",
    "        print(\"Incorrect type as scene!\")\n",
    "        raise ValueError\n",
    "    \n",
    "    listOf_sceneGeoNodes = list(scene.objects('geometry'))\n",
    "    yellowMaterial = 'Material.001'\n",
    "    blueMaterial = 'Material.002'\n",
    "\n",
    "    listOf_yellows  :list = []\n",
    "    listOf_blues    :list = []\n",
    "    listOf_None     :list = []\n",
    "\n",
    "    # TODO check if idx can be used for proper node.id / cube.id assignment\n",
    "    for idx, obj in enumerate(listOf_sceneGeoNodes):\n",
    "        geo = list(obj.primitives())\n",
    "        triangle = geo[0]\n",
    "        if triangle.material is None:\n",
    "            # print(type(triangle.material))\n",
    "            listOf_None.append(obj)\n",
    "            continue\n",
    "        \n",
    "        # print(triangle.material.name)\n",
    "        if (triangle.material.name == yellowMaterial):\n",
    "            listOf_yellows.append(obj)\n",
    "        else:\n",
    "            listOf_blues.append(obj)\n",
    "            \n",
    "        if (returnBlanks == True):\n",
    "            print(\"Returned listOf_None\",  len(listOf_None), \"objects\")\n",
    "            return listOf_None\n",
    "        elif (materialName == yellowMaterial):\n",
    "            print(\"Returned listOf_yellows\",  len(listOf_yellows), \"objects\")\n",
    "            return listOf_yellows\n",
    "        else:\n",
    "            print(\"Returned listOf_blues\",  len(listOf_blues), \"objects\")\n",
    "            return listOf_blues"
   ]
  },
  {
   "cell_type": "markdown",
   "metadata": {},
   "source": [
    "# Filtering by area xyz (0;15)"
   ]
  },
  {
   "cell_type": "markdown",
   "metadata": {},
   "source": [
    "### Function"
   ]
  },
  {
   "cell_type": "code",
   "execution_count": 4,
   "metadata": {},
   "outputs": [],
   "source": [
    "def filterByUniformArea(scene, upper_bound : float, lower_bound : float = 0, inside : bool = True, verbose : bool = False) -> list:\n",
    "    \"\"\"_summary_\n",
    "\n",
    "    Args:\n",
    "        scene (_type_): _description_\n",
    "        upper_bound (float): _description_\n",
    "        lower_bound (float, optional): _description_. Defaults to 0.\n",
    "        inside (bool, optional): _description_. Defaults to True.\n",
    "        verbose (bool, optional): _description_. Defaults to False.\n",
    "\n",
    "    Returns:\n",
    "        list: _description_\n",
    "    \"\"\"\n",
    "    \n",
    "    listOf_inArea :list = []\n",
    "    listOf_outOfBounds :list = []\n",
    "    listOf_sourceGeoNodes = list(scene.objects('geometry'))\n",
    "    \n",
    "    for idx_1, obj in enumerate(listOf_sourceGeoNodes):\n",
    "        geo = list(obj.primitives())\n",
    "        triangle = geo[0]\n",
    "        \n",
    "        for  idx_2 , arrayOfVerts in enumerate(triangle.vertex):\n",
    "            vertInArea = np.all((lower_bound < arrayOfVerts) & (arrayOfVerts < upper_bound)) \n",
    "            if (vertInArea == True):\n",
    "                listOf_inArea.append(obj)\n",
    "                break\n",
    "            if (idx_2 == len(triangle.vertex) -1 ):\n",
    "                listOf_outOfBounds.append(obj)\n",
    "        if (verbose == True):\n",
    "            print(\"This is the amount of inArea\",           len(listOf_inArea))\n",
    "            print(\"This is the amount of outOfBounds\",      len(listOf_outOfBounds))\n",
    "    if (inside == True):\n",
    "        return listOf_inArea\n",
    "    else:\n",
    "        return listOf_outOfBounds\n",
    "        "
   ]
  },
  {
   "cell_type": "code",
   "execution_count": null,
   "metadata": {},
   "outputs": [],
   "source": []
  },
  {
   "cell_type": "markdown",
   "metadata": {},
   "source": [
    "## Transforming the scene\n",
    "### Problems\n",
    "- MatrixTransform sucks\n",
    "- How to rotate the whole set? - Best solution would be to place them under one node, calculate the center and rotate the parent?"
   ]
  },
  {
   "cell_type": "markdown",
   "metadata": {},
   "source": [
    "# Creating new objects"
   ]
  },
  {
   "cell_type": "markdown",
   "metadata": {},
   "source": [
    "### Function"
   ]
  },
  {
   "cell_type": "code",
   "execution_count": 5,
   "metadata": {},
   "outputs": [],
   "source": [
    "def prepareColladaObj(obj, objectToCopyFrom, list_to_pick_from, nameOfTheScene : str = \"myscene\" ):\n",
    "    \"\"\"_summary_\n",
    "\n",
    "    Args:\n",
    "        obj (_type_): _description_\n",
    "        objectToCopyFrom (_type_): _description_\n",
    "        list_to_pick_from (_type_): _description_\n",
    "        nameOfTheScene (str, optional): _description_. Defaults to \"myscene\".\n",
    "\n",
    "    Returns:\n",
    "        _type_: _description_\n",
    "    \"\"\"\n",
    "    \n",
    "    # TODO Correct amount of nodes\n",
    "    amountOfObjects = len(list(objectToCopyFrom.scene.objects('geometry')))\n",
    "    for x_Eff in objectToCopyFrom.effects:\n",
    "        obj.effects.append(x_Eff)\n",
    "        \n",
    "    for x_Mat in objectToCopyFrom.materials:\n",
    "        obj.materials.append(x_Mat)\n",
    "        \n",
    "    indexOfCorrectNodes = []\n",
    "    for x_Geo in list_to_pick_from:\n",
    "        x_Geo = x_Geo.original\n",
    "        print(\"x_Geo\", x_Geo.name)\n",
    "        indexOfCorrectNodes.append(amountOfObjects -  int(x_Geo.name[-3:]))\n",
    "        newSceneMesh.geometries.append(x_Geo)\n",
    "    print(\"indexOfCorrectNodes\", indexOfCorrectNodes)\n",
    "    print(\"objectToCopyFrom.scene.nodes\", objectToCopyFrom.scene.nodes)\n",
    "    compressed_nodes = [val for idx, val in enumerate(objectToCopyFrom.scene.nodes) if idx in indexOfCorrectNodes]\n",
    "    print(compressed_nodes[0].id)\n",
    "    myscene = cl.scene.Scene(nameOfTheScene, compressed_nodes)\n",
    "    obj.scenes.append(myscene)\n",
    "    obj.scene = myscene\n",
    "    \n",
    "    return obj"
   ]
  },
  {
   "cell_type": "code",
   "execution_count": 6,
   "metadata": {},
   "outputs": [
    {
     "name": "stdout",
     "output_type": "stream",
     "text": [
      "Returned listOf_blues 1 objects\n",
      "[<BoundGeometry id=Cube_001-mesh, 1 primitives>]\n",
      "x_Geo Cube_001\n",
      "indexOfCorrectNodes [0]\n",
      "objectToCopyFrom.scene.nodes [<Node transforms=1, children=1>]\n",
      "Cube_parentNode0\n"
     ]
    }
   ],
   "source": [
    "newSceneMesh = cl.Collada()\n",
    "list_to_pick_from = filterByMaterial(scene = mesh.scene, materialName= \"lol\")\n",
    "print(list_to_pick_from)\n",
    "newSceneMesh = prepareColladaObj(newSceneMesh, mesh, list_to_pick_from= list_to_pick_from)\n",
    "newSceneMesh.assetInfo.upaxis= \"Z_UP\"\n"
   ]
  },
  {
   "cell_type": "markdown",
   "metadata": {},
   "source": [
    "# Calculate mean of points"
   ]
  },
  {
   "cell_type": "markdown",
   "metadata": {},
   "source": [
    "### Function"
   ]
  },
  {
   "cell_type": "code",
   "execution_count": 7,
   "metadata": {},
   "outputs": [],
   "source": [
    "def meanOfCentre(list_to_pick_from : list, verbose : bool = True) -> np.ndarray:\n",
    "    \"\"\"_summary_\n",
    "\n",
    "    Args:\n",
    "        list_to_pick_from (list): _description_\n",
    "        verbose (bool, optional): _description_. Defaults to True.\n",
    "\n",
    "    Returns:\n",
    "        np.ndarray: _description_\n",
    "    \"\"\"\n",
    "    \n",
    "    centralPoint : np.array = 0\n",
    "    tmpSum = 0\n",
    "    amount : int = 0\n",
    "    for x_Geo in list_to_pick_from:\n",
    "        geo = list(x_Geo.primitives())\n",
    "        triangle = geo[0]\n",
    "        \n",
    "        for  idx_2 , arrayOfVerts in enumerate(triangle.vertex):\n",
    "            tmpSum += arrayOfVerts\n",
    "            amount += 1\n",
    "    centralPoint = tmpSum/amount\n",
    "            \n",
    "    if (verbose == True):\n",
    "        print(\"Sum of the verts:\\n\\t\", tmpSum)\n",
    "        print(\"Amount of the verts:\\n\\t\", amount)\n",
    "        print(\"Central mean of vertices:\\n\\t\", centralPoint)\n",
    "    \n",
    "    return centralPoint"
   ]
  },
  {
   "cell_type": "code",
   "execution_count": 8,
   "metadata": {},
   "outputs": [
    {
     "name": "stdout",
     "output_type": "stream",
     "text": [
      "Sum of the verts:\n",
      "\t [0. 0. 0.]\n",
      "Amount of the verts:\n",
      "\t 8\n",
      "Central mean of vertices:\n",
      "\t [0. 0. 0.]\n"
     ]
    }
   ],
   "source": [
    "originPoint = meanOfCentre(list_to_pick_from)"
   ]
  },
  {
   "cell_type": "markdown",
   "metadata": {},
   "source": [
    "# Applying transformations\n"
   ]
  },
  {
   "cell_type": "markdown",
   "metadata": {},
   "source": [
    "### Function"
   ]
  },
  {
   "cell_type": "code",
   "execution_count": 9,
   "metadata": {},
   "outputs": [],
   "source": [
    "def applyTransformation(scene, pivotOfRotation = [0,0,0] ,\n",
    "                        transform_offsetX:float = 0,\n",
    "                        transform_offsetY:float = 0,\n",
    "                        transform_offsetZ:float = 0,\n",
    "                        scalevalueX:float = 1,\n",
    "                        scalevalueY:float = 1,\n",
    "                        scalevalueZ:float = 1,\n",
    "                        degreesToRotate : float = 0,\n",
    "                        verbose : bool = False ) -> None:\n",
    "    \"\"\"_summary_\n",
    "\n",
    "    Args:\n",
    "        scene (_type_): _description_\n",
    "        pivotOfRotation (_type_): _description_\n",
    "        transform_offsetX (float, optional): _description_. Defaults to 0.\n",
    "        transform_offsetY (float, optional): _description_. Defaults to 0.\n",
    "        transform_offsetZ (float, optional): _description_. Defaults to 0.\n",
    "        degreesToRotate (float, optional): _description_. Defaults to 0.\n",
    "    \"\"\"\n",
    "# http://www.opengl-tutorial.org/assets/faq_quaternions/index.html#Q11\n",
    "\n",
    "    matrixScale = cl.scene.ScaleTransform(scalevalueX, scalevalueY, scalevalueZ)\n",
    "    # matrixRotation = cl.scene.RotateTransform(pivotOfRotation[0], pivotOfRotation[1], pivotOfRotation[2], math.radians(degreesToRotate))\n",
    "    \n",
    "    cos = np.cos(np.radians(degreesToRotate))\n",
    "    sin = np.sin(np.radians(degreesToRotate))\n",
    "    # matrixRotation = np.array([[cos, -sin, 0, 0] ,\n",
    "    #                           [sin, cos, 0, 0]  ,\n",
    "    #                           [0,0,1,0]         ,\n",
    "    #                           [0,0,0,1]         ])\n",
    "    x,y,z = pivotOfRotation[0], pivotOfRotation[1], pivotOfRotation[2]\n",
    "    matrixRotation = np.array([\n",
    "            [(1-cos) * x * x + cos,\n",
    "             (1-cos) * x * y - sin * z,\n",
    "             (1-cos) * x * z + sin * y,\n",
    "             0],\n",
    "            [(1-cos) * x * y + sin * z,\n",
    "             (1-cos) * y * y + cos,\n",
    "             (1-cos) * z * y - sin * x,\n",
    "             0],\n",
    "            [(1-cos) * x * z - sin * y,\n",
    "             (1-cos) * y * z + sin * x,\n",
    "             (1-cos) * z * z + cos,\n",
    "             0],\n",
    "            [0, 0, 0, 1],\n",
    "        ])\n",
    "    \n",
    "    \n",
    "    \n",
    "    matrixTranslate = cl.scene.TranslateTransform(transform_offsetX, transform_offsetY, transform_offsetZ)\n",
    "    \n",
    "    for idx, nodeX in enumerate(scene.nodes):\n",
    "        transforms_old = nodeX.transforms[0]\n",
    "        old_node = scene.nodes[idx]\n",
    "        \n",
    "        # final_matrix = cl.scene.MatrixTransform(np.dot(np.dot(matrixRotation.matrix, matrixTranslate.matrix), transforms_old.matrix).flatten())\n",
    "        # ? T x R x S\n",
    "        # ?TransformedVector = TranslationMatrix * RotationMatrix * ScaleMatrix * OriginalVector;\n",
    "        # final_matrix = cl.scene.MatrixTransform(np.dot(np.dot(np.dot(matrixTranslate.matrix,matrixRotation.matrix), matrixScale.matrix), transforms_old.matrix).flatten())\n",
    "        final_matrix = cl.scene.MatrixTransform(np.dot(np.dot(np.dot(matrixTranslate.matrix,matrixRotation), matrixScale.matrix), transforms_old.matrix).flatten())\n",
    "        # new_node = cl.scene.Node(old_node.id, old_node.children, [])\n",
    "        scene.nodes[idx].transforms[0] = final_matrix\n",
    "        (scene.nodes[idx]).save()\n",
    "    if (verbose == True):\n",
    "        print(\"Scaling _>\\n\",matrixScale.matrix)\n",
    "        # print(\"Rotations _>\\n\",matrixRotation.matrix)\n",
    "        print(\"Rotations _>\\n\",matrixRotation)\n",
    "        # print(\"OLD _>\\n\", transforms_old.matrix)\n",
    "        print(\"NEW _>\\n\", scene.nodes[0].transforms[0].matrix)"
   ]
  },
  {
   "cell_type": "code",
   "execution_count": 14,
   "metadata": {},
   "outputs": [
    {
     "name": "stdout",
     "output_type": "stream",
     "text": [
      "Sum of the verts:\n",
      "\t [-13.68080573  37.58770483   0.        ]\n",
      "Amount of the verts:\n",
      "\t 8\n",
      "Central mean of vertices:\n",
      "\t [-1.71010072  4.6984631   0.        ]\n",
      "NewPivot =  [-1.71010072  4.6984631   0.        ]\n",
      "Scaling _>\n",
      " [[1. 0. 0. 0.]\n",
      " [0. 1. 0. 0.]\n",
      " [0. 0. 1. 0.]\n",
      " [0. 0. 0. 1.]]\n",
      "Rotations _>\n",
      " [[ 0.93969262 -0.34202014  0.          0.        ]\n",
      " [ 0.34202014  0.93969262  0.          0.        ]\n",
      " [ 0.          0.          1.          0.        ]\n",
      " [ 0.          0.          0.          1.        ]]\n",
      "NEW _>\n",
      " [[ 0.76312941 -1.28557522  0.06676517 -3.21393805]\n",
      " [ 0.64034161  1.53208889  0.05602263  3.83022222]\n",
      " [-0.08715574  0.          0.9961947   0.        ]\n",
      " [ 0.          0.          0.          1.        ]]\n",
      "Mesh old transform\n",
      " [[ 0.76312941 -1.28557522  0.06676517 -3.21393805]\n",
      " [ 0.64034161  1.53208889  0.05602263  3.83022222]\n",
      " [-0.08715574  0.          0.9961947   0.        ]\n",
      " [ 0.          0.          0.          1.        ]]\n"
     ]
    }
   ],
   "source": [
    "# ! OH MY FCKING GOD\n",
    "# matrixRotation = cl.scene.RotateTransform(originPoint[0], originPoint[1], originPoint[2], math.radians(20))\n",
    "# matrixTranslate = cl.scene.TranslateTransform(0, 100, 0)\n",
    "\n",
    "# applyTransformation(scene= newSceneMesh.scene, transform_offsetY= 5,scalevalueX = 1, scalevalueY = 2, scalevalueZ = 1, verbose= True)\n",
    "# applyTransformation(scene= newSceneMesh.scene, scalevalueX = 1, scalevalueY = 1.5, scalevalueZ = 1, verbose= True)\n",
    "\n",
    "listOf_objectsAfterTransform = list(newSceneMesh.scene.objects('geometry'))\n",
    "\n",
    "newPivot = meanOfCentre(listOf_objectsAfterTransform)\n",
    "print(\"NewPivot = \", newPivot)\n",
    "# ?Change of pivot also affects scale?\n",
    "# ?What is lacking is another function that would take the current matrix and apply transforms at LOCAL space, not GLOBAL\n",
    "applyTransformation(scene= newSceneMesh.scene, pivotOfRotation = [0,0,1], degreesToRotate=20, verbose= True)\n",
    "\n",
    "# applyTransformation(scene= newSceneMesh.scene, pivotOfRotation= newPivot, degreesToRotate= 30 ,  verbose= True)\n",
    "\n",
    "print(\"Mesh old transform\\n\", mesh.scene.nodes[0].transforms[0].matrix)"
   ]
  },
  {
   "cell_type": "code",
   "execution_count": 15,
   "metadata": {},
   "outputs": [],
   "source": [
    "newSceneMesh.write(\"test0Pos.dae\")"
   ]
  }
 ],
 "metadata": {
  "interpreter": {
   "hash": "30ce3c260c001b5e6f0ddab3c8913c051b426dc08e4364b60e2658025f1c6f7c"
  },
  "kernelspec": {
   "display_name": "Python 3.9.7 64-bit",
   "language": "python",
   "name": "python3"
  },
  "language_info": {
   "codemirror_mode": {
    "name": "ipython",
    "version": 3
   },
   "file_extension": ".py",
   "mimetype": "text/x-python",
   "name": "python",
   "nbconvert_exporter": "python",
   "pygments_lexer": "ipython3",
   "version": "3.9.7"
  },
  "orig_nbformat": 4
 },
 "nbformat": 4,
 "nbformat_minor": 2
}
