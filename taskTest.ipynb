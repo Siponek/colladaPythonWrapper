{
 "cells": [
  {
   "cell_type": "markdown",
   "metadata": {},
   "source": [
    "### Import of modules/libs"
   ]
  },
  {
   "cell_type": "code",
   "execution_count": 1,
   "metadata": {},
   "outputs": [],
   "source": [
    "import collada as cl\n",
    "import pandas as pd\n",
    "import numpy as np\n"
   ]
  },
  {
   "cell_type": "markdown",
   "metadata": {},
   "source": [
    "### Import of data"
   ]
  },
  {
   "cell_type": "code",
   "execution_count": 2,
   "metadata": {},
   "outputs": [
    {
     "name": "stdout",
     "output_type": "stream",
     "text": [
      "This is the whole scene source list object \t <Collada geometries=130>\n",
      "This is the first geometry object \t\t <Geometry id=Cube_130-mesh, 1 primitives>\n"
     ]
    }
   ],
   "source": [
    "\n",
    "pathToFile :str = 'cubes_scene.dae'\n",
    "with open(file=pathToFile, mode=\"rb\") as cubesSceneFile:\n",
    "    mesh = cl.Collada(cubesSceneFile, ignore=[cl.common.DaeUnsupportedError, cl.common.DaeBrokenRefError])\n",
    "    mesh.assetInfo.upaxis= \"Z_UP\"\n",
    "    print(\"This is the whole scene source list object \\t\",mesh)\n",
    "    # print(mesh.geometries)\n",
    "    print(\"This is the first geometry object \\t\\t\",mesh.geometries[0])\n",
    "    "
   ]
  },
  {
   "cell_type": "markdown",
   "metadata": {},
   "source": [
    "### Filtering by colour"
   ]
  },
  {
   "cell_type": "code",
   "execution_count": 3,
   "metadata": {},
   "outputs": [
    {
     "name": "stdout",
     "output_type": "stream",
     "text": [
      "Amount of objects(geometry) in scene _> \t 130\n",
      "Amount of geometry in objects(geometry) _> \t 1\n",
      "Amount of TRIANGLES in geometry _> \t 12\n",
      "\n",
      "This is the amount of yellows 107\n",
      "This is the amount of blues 19\n",
      "This is the amount of Nones 4\n"
     ]
    }
   ],
   "source": [
    "yellowMaterial = 'Material.001'\n",
    "blueMaterial = 'Material.002'\n",
    "\n",
    "listOf_yellows :list = []\n",
    "listOf_blues :list = []\n",
    "listOf_None :list = []\n",
    "# It is possible to filter out cubes via material. 001 is BLUE, 002 is yellow\n",
    "\n",
    "sceneGraphNode = mesh.scene.nodes[0]\n",
    "listOf_sourceGeoNodes = list(mesh.scene.objects('geometry'))\n",
    "print(\"Amount of objects(geometry) in scene _> \\t\",len(listOf_sourceGeoNodes))\n",
    "listOf_GeoPrims = list(listOf_sourceGeoNodes[0].primitives())\n",
    "print(\"Amount of geometry in objects(geometry) _> \\t\",len(listOf_GeoPrims))\n",
    "listOf_triangles = listOf_GeoPrims[0]\n",
    "print(\"Amount of TRIANGLES in geometry _> \\t\",len(listOf_triangles))\n",
    "\n",
    "for idx, obj in enumerate(listOf_sourceGeoNodes):\n",
    "    # print(idx)\n",
    "    geo = list(obj.primitives())\n",
    "    triangle = geo[0]\n",
    "    # print((triangle))\n",
    "    # typeOfMaterial :str = lambda x : ((obj[i].primitives())[0]).material.name\n",
    "    #? There are None types for some reason\n",
    "    #? Cubes without material have diffrent index in blender and diffrent here\n",
    "    if triangle.material is None:\n",
    "        # print(type(triangle.material))\n",
    "        \n",
    "        listOf_None.append(obj)\n",
    "        continue\n",
    "    \n",
    "    # print(triangle.material.name)\n",
    "    if (triangle.material.name == yellowMaterial):\n",
    "        listOf_yellows.append(obj)\n",
    "    else:\n",
    "        listOf_blues.append(obj)\n",
    "print(\"\\nThis is the amount of yellows\",  len(listOf_yellows))\n",
    "print(\"This is the amount of blues\",    len(listOf_blues))\n",
    "print(\"This is the amount of Nones\",    len(listOf_None))"
   ]
  },
  {
   "cell_type": "markdown",
   "metadata": {},
   "source": [
    "### Filtering by area xyz (0;15)"
   ]
  },
  {
   "cell_type": "code",
   "execution_count": 4,
   "metadata": {},
   "outputs": [
    {
     "name": "stdout",
     "output_type": "stream",
     "text": [
      "This is the amount of inArea 3\n",
      "This is the amount of outOfBounds 127\n"
     ]
    }
   ],
   "source": [
    "#? plan:\n",
    "#? go though array of obj;\n",
    "#? go though array of verts of every single component and see if np.any of them returns false\n",
    "#? if true then append?\n",
    "#? only ONE vert needs to be in area to consider a obj being in area\n",
    "\n",
    "lower_bound , upper_bound = 0, 15\n",
    "listOf_inArea :list = []\n",
    "listOf_outOfBounds :list = []\n",
    "i:int = 10\n",
    "for idx_1, obj in enumerate(listOf_sourceGeoNodes):\n",
    "    geo = list(obj.primitives())\n",
    "    triangle = geo[0]\n",
    "    \n",
    "    for  idx_2 , arrayOfVerts in enumerate(triangle.vertex):\n",
    "        # numpy accepts only bitwise operators here\n",
    "        # ifInArea = np.all((arrayOfVerts > 0) & (arrayOfVerts < 15))\n",
    "        # x,y,z = arrayOfVerts[0], arrayOfVerts[1], arrayOfVerts[2]\n",
    "        # if (0<x) and (x<15):\n",
    "        #     ifInArea_x = True\n",
    "        # else:\n",
    "        #     ifInArea_x = False\n",
    "            \n",
    "        # print(arrayOfVerts)\n",
    "        # print(vertInArea)\n",
    "        \n",
    "        vertInArea = np.all((lower_bound < arrayOfVerts) & (arrayOfVerts < upper_bound)) \n",
    "        if (vertInArea == True):\n",
    "            listOf_inArea.append(obj)\n",
    "            break\n",
    "        if (idx_2 == len(triangle.vertex) -1 ):\n",
    "            listOf_outOfBounds.append(obj)\n",
    "    \n",
    "print(\"This is the amount of inArea\",           len(listOf_inArea))\n",
    "print(\"This is the amount of outOfBounds\",      len(listOf_outOfBounds))"
   ]
  },
  {
   "cell_type": "markdown",
   "metadata": {},
   "source": [
    "### Transforming the scene"
   ]
  },
  {
   "cell_type": "code",
   "execution_count": 5,
   "metadata": {},
   "outputs": [
    {
     "name": "stdout",
     "output_type": "stream",
     "text": [
      "4\n",
      "This is the old matrix\n",
      " [[ -0.2502034   -0.965825    -0.06767803 -13.11428   ]\n",
      " [  0.8722231   -0.1945087   -0.4487686  -22.1053    ]\n",
      " [  0.420268    -0.1713138    0.8910816  -46.21673   ]\n",
      " [  0.           0.           0.           1.        ]]\n",
      "This is the new matrix\n",
      " [[-2.502034e-01 -9.658250e-01 -6.767803e-02 -1.311428e+01]\n",
      " [ 8.722231e-01 -1.945087e-01 -4.487686e-01  7.789470e+01]\n",
      " [ 4.202680e-01 -1.713138e-01  8.910816e-01 -4.621673e+01]\n",
      " [ 0.000000e+00  0.000000e+00  0.000000e+00  1.000000e+00]]\n"
     ]
    }
   ],
   "source": [
    "quickList = [[0,0,0,0],   [0,0,0,100],    [0,0,0,0],    [0,0,0,0]]\n",
    "offsetForMatrix = np.array( quickList,dtype= \"float16\")\n",
    "print(len(offsetForMatrix))\n",
    "transforms_old = (mesh.scene.nodes[0]).transforms[0]\n",
    "transforms_old = transforms_old.matrix\n",
    "\n",
    "print(\"This is the old matrix\\n\",transforms_old)\n",
    "print(\"This is the new matrix\\n\",transforms_old + offsetForMatrix)"
   ]
  },
  {
   "cell_type": "markdown",
   "metadata": {},
   "source": [
    "## Creating new objects"
   ]
  },
  {
   "cell_type": "code",
   "execution_count": 6,
   "metadata": {},
   "outputs": [],
   "source": [
    "newSceneMesh = cl.Collada()\n",
    "\n",
    "\n",
    "# sceneGraphNode.transforms[0] = cl.scene.MatrixTransform(offsetForMatrix)\n",
    "# print(mesh.geometries[0])\n",
    "# print(listOf_yellows[0])"
   ]
  },
  {
   "cell_type": "code",
   "execution_count": 7,
   "metadata": {},
   "outputs": [],
   "source": [
    "testObj = (listOf_yellows[0])\n",
    "testObj = testObj.original"
   ]
  },
  {
   "cell_type": "code",
   "execution_count": 8,
   "metadata": {},
   "outputs": [
    {
     "name": "stdout",
     "output_type": "stream",
     "text": [
      "OLD _>\n",
      "<Collada geometries=0>\n",
      "[]\n",
      "[<Material id=Material_001-material effect=Material_001-effect>, <Material id=Material_002-material effect=Material_002-effect>]\n",
      "[<Effect id=Material_001-effect type=lambert>, <Effect id=Material_002-effect type=lambert>]\n",
      "[]\n",
      "NEW _>\n",
      "<Collada geometries=107>\n",
      "[]\n",
      "[<Material id=Material_001-material effect=Material_001-effect>, <Material id=Material_002-material effect=Material_002-effect>]\n",
      "[<Effect id=Material_001-effect type=lambert>, <Effect id=Material_002-effect type=lambert>]\n",
      "[<Geometry id=Cube_130-mesh, 1 primitives>, <Geometry id=Cube_129-mesh, 1 primitives>, <Geometry id=Cube_127-mesh, 1 primitives>, <Geometry id=Cube_125-mesh, 1 primitives>, <Geometry id=Cube_124-mesh, 1 primitives>, <Geometry id=Cube_122-mesh, 1 primitives>, <Geometry id=Cube_121-mesh, 1 primitives>, <Geometry id=Cube_120-mesh, 1 primitives>, <Geometry id=Cube_119-mesh, 1 primitives>, <Geometry id=Cube_118-mesh, 1 primitives>, <Geometry id=Cube_117-mesh, 1 primitives>, <Geometry id=Cube_116-mesh, 1 primitives>, <Geometry id=Cube_115-mesh, 1 primitives>, <Geometry id=Cube_113-mesh, 1 primitives>, <Geometry id=Cube_111-mesh, 1 primitives>, <Geometry id=Cube_110-mesh, 1 primitives>, <Geometry id=Cube_108-mesh, 1 primitives>, <Geometry id=Cube_107-mesh, 1 primitives>, <Geometry id=Cube_106-mesh, 1 primitives>, <Geometry id=Cube_105-mesh, 1 primitives>, <Geometry id=Cube_104-mesh, 1 primitives>, <Geometry id=Cube_103-mesh, 1 primitives>, <Geometry id=Cube_101-mesh, 1 primitives>, <Geometry id=Cube_100-mesh, 1 primitives>, <Geometry id=Cube_099-mesh, 1 primitives>, <Geometry id=Cube_097-mesh, 1 primitives>, <Geometry id=Cube_096-mesh, 1 primitives>, <Geometry id=Cube_095-mesh, 1 primitives>, <Geometry id=Cube_094-mesh, 1 primitives>, <Geometry id=Cube_093-mesh, 1 primitives>, <Geometry id=Cube_092-mesh, 1 primitives>, <Geometry id=Cube_089-mesh, 1 primitives>, <Geometry id=Cube_088-mesh, 1 primitives>, <Geometry id=Cube_087-mesh, 1 primitives>, <Geometry id=Cube_086-mesh, 1 primitives>, <Geometry id=Cube_085-mesh, 1 primitives>, <Geometry id=Cube_084-mesh, 1 primitives>, <Geometry id=Cube_083-mesh, 1 primitives>, <Geometry id=Cube_082-mesh, 1 primitives>, <Geometry id=Cube_081-mesh, 1 primitives>, <Geometry id=Cube_080-mesh, 1 primitives>, <Geometry id=Cube_079-mesh, 1 primitives>, <Geometry id=Cube_078-mesh, 1 primitives>, <Geometry id=Cube_077-mesh, 1 primitives>, <Geometry id=Cube_076-mesh, 1 primitives>, <Geometry id=Cube_074-mesh, 1 primitives>, <Geometry id=Cube_073-mesh, 1 primitives>, <Geometry id=Cube_072-mesh, 1 primitives>, <Geometry id=Cube_071-mesh, 1 primitives>, <Geometry id=Cube_070-mesh, 1 primitives>, <Geometry id=Cube_069-mesh, 1 primitives>, <Geometry id=Cube_068-mesh, 1 primitives>, <Geometry id=Cube_067-mesh, 1 primitives>, <Geometry id=Cube_066-mesh, 1 primitives>, <Geometry id=Cube_065-mesh, 1 primitives>, <Geometry id=Cube_064-mesh, 1 primitives>, <Geometry id=Cube_063-mesh, 1 primitives>, <Geometry id=Cube_062-mesh, 1 primitives>, <Geometry id=Cube_061-mesh, 1 primitives>, <Geometry id=Cube_060-mesh, 1 primitives>, <Geometry id=Cube_059-mesh, 1 primitives>, <Geometry id=Cube_058-mesh, 1 primitives>, <Geometry id=Cube_057-mesh, 1 primitives>, <Geometry id=Cube_056-mesh, 1 primitives>, <Geometry id=Cube_055-mesh, 1 primitives>, <Geometry id=Cube_053-mesh, 1 primitives>, <Geometry id=Cube_051-mesh, 1 primitives>, <Geometry id=Cube_050-mesh, 1 primitives>, <Geometry id=Cube_048-mesh, 1 primitives>, <Geometry id=Cube_047-mesh, 1 primitives>, <Geometry id=Cube_046-mesh, 1 primitives>, <Geometry id=Cube_045-mesh, 1 primitives>, <Geometry id=Cube_044-mesh, 1 primitives>, <Geometry id=Cube_043-mesh, 1 primitives>, <Geometry id=Cube_042-mesh, 1 primitives>, <Geometry id=Cube_041-mesh, 1 primitives>, <Geometry id=Cube_040-mesh, 1 primitives>, <Geometry id=Cube_039-mesh, 1 primitives>, <Geometry id=Cube_038-mesh, 1 primitives>, <Geometry id=Cube_037-mesh, 1 primitives>, <Geometry id=Cube_036-mesh, 1 primitives>, <Geometry id=Cube_035-mesh, 1 primitives>, <Geometry id=Cube_033-mesh, 1 primitives>, <Geometry id=Cube_032-mesh, 1 primitives>, <Geometry id=Cube_031-mesh, 1 primitives>, <Geometry id=Cube_030-mesh, 1 primitives>, <Geometry id=Cube_028-mesh, 1 primitives>, <Geometry id=Cube_027-mesh, 1 primitives>, <Geometry id=Cube_026-mesh, 1 primitives>, <Geometry id=Cube_023-mesh, 1 primitives>, <Geometry id=Cube_022-mesh, 1 primitives>, <Geometry id=Cube_021-mesh, 1 primitives>, <Geometry id=Cube_020-mesh, 1 primitives>, <Geometry id=Cube_019-mesh, 1 primitives>, <Geometry id=Cube_017-mesh, 1 primitives>, <Geometry id=Cube_016-mesh, 1 primitives>, <Geometry id=Cube_015-mesh, 1 primitives>, <Geometry id=Cube_013-mesh, 1 primitives>, <Geometry id=Cube_012-mesh, 1 primitives>, <Geometry id=Cube_011-mesh, 1 primitives>, <Geometry id=Cube_010-mesh, 1 primitives>, <Geometry id=Cube_009-mesh, 1 primitives>, <Geometry id=Cube_008-mesh, 1 primitives>, <Geometry id=Cube_007-mesh, 1 primitives>, <Geometry id=Cube_005-mesh, 1 primitives>, <Geometry id=Cube_004-mesh, 1 primitives>, <Geometry id=Cube_002-mesh, 1 primitives>]\n"
     ]
    }
   ],
   "source": [
    "newSceneMesh.effects = mesh.effects\n",
    "newSceneMesh.materials = mesh.materials\n",
    "\n",
    "\n",
    "# matnode = cl.scene.MaterialNode(\"materialref\", mesh.materials, inputs=[])\n",
    "# geomnode = cl.scene.GeometryNode(geom, [matnode])\n",
    "# node = cl.scene.Node(\"node0\")\n",
    "# myscene = cl.scene.Scene(\"myscene\", [node])\n",
    "# mesh.scenes.append(myscene)\n",
    "newSceneMesh.scene\n",
    "# newSceneMesh.scene.nodes = mesh.scene.nodes\n",
    "\n",
    "mesh.geometries = []\n",
    "for obj in listOf_yellows:\n",
    "    newSceneMesh.geometries.append(obj.original)\n",
    "# cool = ((newSceneMesh.scene.node).transforms[0])\n",
    "# print(cool.transforms[0])\n",
    "print(\"OLD _>\")\n",
    "print(mesh)\n",
    "print(mesh.nodes)\n",
    "print(mesh.materials)\n",
    "print(mesh.effects)\n",
    "print(mesh.geometries)\n",
    "\n",
    "print(\"NEW _>\")\n",
    "print(newSceneMesh)\n",
    "print(newSceneMesh.nodes)\n",
    "print(newSceneMesh.materials)\n",
    "print(newSceneMesh.effects)\n",
    "print(newSceneMesh.geometries)\n",
    "\n"
   ]
  },
  {
   "cell_type": "code",
   "execution_count": 9,
   "metadata": {},
   "outputs": [],
   "source": [
    "newSceneMesh.write(\"test.dae\")"
   ]
  }
 ],
 "metadata": {
  "interpreter": {
   "hash": "30ce3c260c001b5e6f0ddab3c8913c051b426dc08e4364b60e2658025f1c6f7c"
  },
  "kernelspec": {
   "display_name": "Python 3.9.7 64-bit",
   "language": "python",
   "name": "python3"
  },
  "language_info": {
   "codemirror_mode": {
    "name": "ipython",
    "version": 3
   },
   "file_extension": ".py",
   "mimetype": "text/x-python",
   "name": "python",
   "nbconvert_exporter": "python",
   "pygments_lexer": "ipython3",
   "version": "3.9.7"
  },
  "orig_nbformat": 4
 },
 "nbformat": 4,
 "nbformat_minor": 2
}
